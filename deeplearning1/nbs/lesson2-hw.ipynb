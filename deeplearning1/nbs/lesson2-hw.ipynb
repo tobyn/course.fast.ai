{
 "cells": [
  {
   "cell_type": "code",
   "execution_count": 9,
   "metadata": {
    "collapsed": true
   },
   "outputs": [],
   "source": [
    "DATA_DIR = 'data/invasive-species-monitoring/'"
   ]
  },
  {
   "cell_type": "markdown",
   "metadata": {},
   "source": [
    "Rather than being named according to their category, or grouped in subdirectories, a CSV file is provided along with the training images. The first field is the image ID, the second field is a 1 if the image contains an invasive plant."
   ]
  },
  {
   "cell_type": "code",
   "execution_count": 19,
   "metadata": {},
   "outputs": [],
   "source": [
    "import csv\n",
    "\n",
    "invasive = set()\n",
    "\n",
    "with open(DATA_DIR+'train_labels.csv', 'rb') as csv_file:\n",
    "    csv_reader = csv.reader(csv_file)\n",
    "    \n",
    "    # skip the column headings\n",
    "    next(csv_reader)\n",
    "    \n",
    "    for row in csv_reader:\n",
    "        if row[1] == '1':\n",
    "            invasive.add(int(row[0]))"
   ]
  },
  {
   "cell_type": "markdown",
   "metadata": {},
   "source": [
    "Using the set of invasive images gathered above, the training images can be grouped into `invasive`/`noninvasive` subdirectories."
   ]
  },
  {
   "cell_type": "code",
   "execution_count": 27,
   "metadata": {},
   "outputs": [],
   "source": [
    "import os, re\n",
    "\n",
    "IMAGE_PATTERN = re.compile(r'(\\d+)\\.jpg$')\n",
    "train_dir = DATA_DIR+'train/'\n",
    "\n",
    "os.mkdir(train_dir+'invasive')\n",
    "os.mkdir(train_dir+'noninvasive')\n",
    "\n",
    "for path in os.listdir(train_dir):\n",
    "    match = IMAGE_PATTERN.match(path)\n",
    "    \n",
    "    if match:\n",
    "        id = int(match.group(1))\n",
    "        \n",
    "        destination_dir = train_dir+'noninvasive/'\n",
    "        if id in invasive:\n",
    "            destination_dir = train_dir+'invasive/'\n",
    "        \n",
    "        os.rename(train_dir+path, destination_dir+path)"
   ]
  },
  {
   "cell_type": "code",
   "execution_count": 1,
   "metadata": {},
   "outputs": [
    {
     "name": "stderr",
     "output_type": "stream",
     "text": [
      "Using Theano backend.\n",
      "Using cuDNN version 5110 on context None\n",
      "Preallocating 6553/8192 Mb (0.800000) on cuda0\n",
      "Mapped name None to device cuda0: GeForce GTX 1080 (0000:01:00.0)\n"
     ]
    }
   ],
   "source": [
    "from vgg16 import Vgg16"
   ]
  },
  {
   "cell_type": "code",
   "execution_count": 2,
   "metadata": {
    "collapsed": true
   },
   "outputs": [],
   "source": [
    "vgg = Vgg16()"
   ]
  },
  {
   "cell_type": "code",
   "execution_count": 39,
   "metadata": {
    "collapsed": true
   },
   "outputs": [],
   "source": [
    "batch_size = 64"
   ]
  },
  {
   "cell_type": "code",
   "execution_count": 29,
   "metadata": {},
   "outputs": [
    {
     "name": "stdout",
     "output_type": "stream",
     "text": [
      "Found 2145 images belonging to 2 classes.\n",
      "Found 150 images belonging to 2 classes.\n"
     ]
    }
   ],
   "source": [
    "batches = vgg.get_batches(DATA_DIR+'train', batch_size=batch_size)\n",
    "val_batches = vgg.get_batches(DATA_DIR+'valid', batch_size=batch_size)"
   ]
  },
  {
   "cell_type": "code",
   "execution_count": 30,
   "metadata": {
    "collapsed": true
   },
   "outputs": [],
   "source": [
    "vgg.finetune(batches)"
   ]
  },
  {
   "cell_type": "code",
   "execution_count": 35,
   "metadata": {},
   "outputs": [
    {
     "name": "stdout",
     "output_type": "stream",
     "text": [
      "Epoch 1/1\n",
      "2145/2145 [==============================] - 62s - loss: 0.3838 - acc: 0.8513 - val_loss: 0.3078 - val_acc: 0.8800\n"
     ]
    }
   ],
   "source": [
    "vgg.fit(batches, val_batches)"
   ]
  },
  {
   "cell_type": "code",
   "execution_count": 34,
   "metadata": {
    "collapsed": true
   },
   "outputs": [],
   "source": [
    "vgg.model.save_weights(DATA_DIR+'results/ft2.h5')"
   ]
  },
  {
   "cell_type": "code",
   "execution_count": 36,
   "metadata": {
    "collapsed": true
   },
   "outputs": [],
   "source": [
    "vgg.model.load_weights(DATA_DIR+'results/ft2.h5')"
   ]
  },
  {
   "cell_type": "code",
   "execution_count": 40,
   "metadata": {},
   "outputs": [
    {
     "name": "stdout",
     "output_type": "stream",
     "text": [
      "Found 1531 images belonging to 1 classes.\n"
     ]
    }
   ],
   "source": [
    "test_batches, predictions = vgg.test(DATA_DIR+'test', batch_size=batch_size*2)"
   ]
  },
  {
   "cell_type": "code",
   "execution_count": 41,
   "metadata": {
    "collapsed": true
   },
   "outputs": [],
   "source": [
    "from utils import load_array, save_array"
   ]
  },
  {
   "cell_type": "code",
   "execution_count": 43,
   "metadata": {},
   "outputs": [],
   "source": [
    "paths = test_batches.filenames"
   ]
  },
  {
   "cell_type": "code",
   "execution_count": 44,
   "metadata": {
    "collapsed": true
   },
   "outputs": [],
   "source": [
    "save_array(DATA_DIR+'results/paths.dat', paths)\n",
    "save_array(DATA_DIR+'results/predictions.dat', predictions)"
   ]
  },
  {
   "cell_type": "code",
   "execution_count": 58,
   "metadata": {},
   "outputs": [],
   "source": [
    "with open(DATA_DIR+'submission.csv', 'w') as submission:\n",
    "    submission.write('name,invasive\\n')\n",
    "    \n",
    "    for i, path in enumerate(paths):\n",
    "        filename = os.path.basename(path)\n",
    "        id = filename[:filename.find('.')]\n",
    "        submission.write('%s,%f\\n' % (id, predictions[i][1]))"
   ]
  },
  {
   "cell_type": "code",
   "execution_count": null,
   "metadata": {
    "collapsed": true
   },
   "outputs": [],
   "source": []
  }
 ],
 "metadata": {
  "kernelspec": {
   "display_name": "Python 2",
   "language": "python",
   "name": "python2"
  },
  "language_info": {
   "codemirror_mode": {
    "name": "ipython",
    "version": 2
   },
   "file_extension": ".py",
   "mimetype": "text/x-python",
   "name": "python",
   "nbconvert_exporter": "python",
   "pygments_lexer": "ipython2",
   "version": "2.7.13"
  }
 },
 "nbformat": 4,
 "nbformat_minor": 2
}
